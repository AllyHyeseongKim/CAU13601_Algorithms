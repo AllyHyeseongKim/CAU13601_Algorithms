{
  "nbformat": 4,
  "nbformat_minor": 0,
  "metadata": {
    "colab": {
      "name": "Tensorflow_mnist_example.ipynb",
      "provenance": [],
      "authorship_tag": "ABX9TyOGJF86CrKriW1vl2PpxQJT",
      "include_colab_link": true
    },
    "kernelspec": {
      "name": "python3",
      "display_name": "Python 3"
    },
    "accelerator": "GPU"
  },
  "cells": [
    {
      "cell_type": "markdown",
      "metadata": {
        "id": "view-in-github",
        "colab_type": "text"
      },
      "source": [
        "<a href=\"https://colab.research.google.com/github/AllyHyeseongKim/CAU13601_Algorithms/blob/feature%2Fassignment04/assignment04/Tensorflow_mnist_example.ipynb\" target=\"_parent\"><img src=\"https://colab.research.google.com/assets/colab-badge.svg\" alt=\"Open In Colab\"/></a>"
      ]
    },
    {
      "cell_type": "markdown",
      "metadata": {
        "id": "oiYc_dzS1bM6",
        "colab_type": "text"
      },
      "source": [
        "# Assignment04: Open Source SW Project (Deep Learning) - Tensorflow MNIST example"
      ]
    },
    {
      "cell_type": "markdown",
      "metadata": {
        "id": "a0m50pfcx4by",
        "colab_type": "text"
      },
      "source": [
        "## Import libraries"
      ]
    },
    {
      "cell_type": "code",
      "metadata": {
        "id": "CUQ6Z1Ovv0Xz",
        "colab_type": "code",
        "colab": {}
      },
      "source": [
        "import tensorflow as tf\n",
        "from tensorflow import keras\n",
        "from tensorflow.keras import layers, models\n",
        "import numpy as np\n",
        "import matplotlib.pyplot as plt"
      ],
      "execution_count": 0,
      "outputs": []
    },
    {
      "cell_type": "markdown",
      "metadata": {
        "id": "sY9LKLH0yAEx",
        "colab_type": "text"
      },
      "source": [
        "## Get MNIST dataset"
      ]
    },
    {
      "cell_type": "markdown",
      "metadata": {
        "id": "hIn1b4yIyjZO",
        "colab_type": "text"
      },
      "source": [
        "`MNIST` data located in `tensorflow > keras > datasets > mnist`. \\\\\n",
        "`Split data` to (`train images`, `train labels`) and (`test images`, `test labels`)"
      ]
    },
    {
      "cell_type": "code",
      "metadata": {
        "id": "iIkp9vWFy8Ng",
        "colab_type": "code",
        "colab": {}
      },
      "source": [
        "mnist = keras.datasets.mnist\n",
        "(train_images, train_labels), (test_images, test_labels) = mnist.load_data()"
      ],
      "execution_count": 0,
      "outputs": []
    },
    {
      "cell_type": "markdown",
      "metadata": {
        "id": "yeC9tAkVz0vI",
        "colab_type": "text"
      },
      "source": [
        "There are total `60000` `train images` and `train labels`. (60000 images for single class) \\\\\n",
        "Shape of single image is `28x28` (pixel)."
      ]
    },
    {
      "cell_type": "code",
      "metadata": {
        "id": "IkpCm3yt0t3F",
        "colab_type": "code",
        "colab": {
          "base_uri": "https://localhost:8080/",
          "height": 102
        },
        "outputId": "539dc9e9-81ac-4562-f27a-3c5cef0e6aef"
      },
      "source": [
        "print('Shape of Train Images: ', train_images.shape)\n",
        "print('Shape of Train Labels: ', train_labels.shape)\n",
        "print()\n",
        "print('Shape of Test Images: ', test_images.shape)\n",
        "print('Shape of Test Label: ', test_labels.shape)"
      ],
      "execution_count": 5,
      "outputs": [
        {
          "output_type": "stream",
          "text": [
            "Shape of Train Images:  (60000, 28, 28)\n",
            "Shape of Train Labels:  (60000,)\n",
            "\n",
            "Shape of Test Images:  (10000, 28, 28)\n",
            "Shape of Test Label:  (10000,)\n"
          ],
          "name": "stdout"
        }
      ]
    },
    {
      "cell_type": "code",
      "metadata": {
        "id": "s48fupo31EOG",
        "colab_type": "code",
        "colab": {
          "base_uri": "https://localhost:8080/",
          "height": 34
        },
        "outputId": "2f1fa0c9-3022-4e88-a509-72cb1a23b97d"
      },
      "source": [
        "print('Train Labels: ', train_labels)"
      ],
      "execution_count": 6,
      "outputs": [
        {
          "output_type": "stream",
          "text": [
            "Train Labels:  [5 0 4 ... 5 6 8]\n"
          ],
          "name": "stdout"
        }
      ]
    },
    {
      "cell_type": "markdown",
      "metadata": {
        "id": "SySM4KU91zCL",
        "colab_type": "text"
      },
      "source": [
        "## Plot the first train image"
      ]
    },
    {
      "cell_type": "markdown",
      "metadata": {
        "id": "4j5HwUIa190o",
        "colab_type": "text"
      },
      "source": [
        "When the `value of the image data` is close to `0`: `dark`. \\\\\n",
        "When the `value of the image data` is close to `255`: `white`. \\\\\n",
        "Print the example of the data of the `first train image data`."
      ]
    },
    {
      "cell_type": "code",
      "metadata": {
        "id": "r2So9_sY2O8H",
        "colab_type": "code",
        "colab": {
          "base_uri": "https://localhost:8080/",
          "height": 969
        },
        "outputId": "bba69bdd-7723-4907-a523-f5128b89a44d"
      },
      "source": [
        "print(train_images[1])"
      ],
      "execution_count": 7,
      "outputs": [
        {
          "output_type": "stream",
          "text": [
            "[[  0   0   0   0   0   0   0   0   0   0   0   0   0   0   0   0   0   0\n",
            "    0   0   0   0   0   0   0   0   0   0]\n",
            " [  0   0   0   0   0   0   0   0   0   0   0   0   0   0   0   0   0   0\n",
            "    0   0   0   0   0   0   0   0   0   0]\n",
            " [  0   0   0   0   0   0   0   0   0   0   0   0   0   0   0   0   0   0\n",
            "    0   0   0   0   0   0   0   0   0   0]\n",
            " [  0   0   0   0   0   0   0   0   0   0   0   0   0   0   0   0   0   0\n",
            "    0   0   0   0   0   0   0   0   0   0]\n",
            " [  0   0   0   0   0   0   0   0   0   0   0   0   0   0   0  51 159 253\n",
            "  159  50   0   0   0   0   0   0   0   0]\n",
            " [  0   0   0   0   0   0   0   0   0   0   0   0   0   0  48 238 252 252\n",
            "  252 237   0   0   0   0   0   0   0   0]\n",
            " [  0   0   0   0   0   0   0   0   0   0   0   0   0  54 227 253 252 239\n",
            "  233 252  57   6   0   0   0   0   0   0]\n",
            " [  0   0   0   0   0   0   0   0   0   0   0  10  60 224 252 253 252 202\n",
            "   84 252 253 122   0   0   0   0   0   0]\n",
            " [  0   0   0   0   0   0   0   0   0   0   0 163 252 252 252 253 252 252\n",
            "   96 189 253 167   0   0   0   0   0   0]\n",
            " [  0   0   0   0   0   0   0   0   0   0  51 238 253 253 190 114 253 228\n",
            "   47  79 255 168   0   0   0   0   0   0]\n",
            " [  0   0   0   0   0   0   0   0   0  48 238 252 252 179  12  75 121  21\n",
            "    0   0 253 243  50   0   0   0   0   0]\n",
            " [  0   0   0   0   0   0   0   0  38 165 253 233 208  84   0   0   0   0\n",
            "    0   0 253 252 165   0   0   0   0   0]\n",
            " [  0   0   0   0   0   0   0   7 178 252 240  71  19  28   0   0   0   0\n",
            "    0   0 253 252 195   0   0   0   0   0]\n",
            " [  0   0   0   0   0   0   0  57 252 252  63   0   0   0   0   0   0   0\n",
            "    0   0 253 252 195   0   0   0   0   0]\n",
            " [  0   0   0   0   0   0   0 198 253 190   0   0   0   0   0   0   0   0\n",
            "    0   0 255 253 196   0   0   0   0   0]\n",
            " [  0   0   0   0   0   0  76 246 252 112   0   0   0   0   0   0   0   0\n",
            "    0   0 253 252 148   0   0   0   0   0]\n",
            " [  0   0   0   0   0   0  85 252 230  25   0   0   0   0   0   0   0   0\n",
            "    7 135 253 186  12   0   0   0   0   0]\n",
            " [  0   0   0   0   0   0  85 252 223   0   0   0   0   0   0   0   0   7\n",
            "  131 252 225  71   0   0   0   0   0   0]\n",
            " [  0   0   0   0   0   0  85 252 145   0   0   0   0   0   0   0  48 165\n",
            "  252 173   0   0   0   0   0   0   0   0]\n",
            " [  0   0   0   0   0   0  86 253 225   0   0   0   0   0   0 114 238 253\n",
            "  162   0   0   0   0   0   0   0   0   0]\n",
            " [  0   0   0   0   0   0  85 252 249 146  48  29  85 178 225 253 223 167\n",
            "   56   0   0   0   0   0   0   0   0   0]\n",
            " [  0   0   0   0   0   0  85 252 252 252 229 215 252 252 252 196 130   0\n",
            "    0   0   0   0   0   0   0   0   0   0]\n",
            " [  0   0   0   0   0   0  28 199 252 252 253 252 252 233 145   0   0   0\n",
            "    0   0   0   0   0   0   0   0   0   0]\n",
            " [  0   0   0   0   0   0   0  25 128 252 253 252 141  37   0   0   0   0\n",
            "    0   0   0   0   0   0   0   0   0   0]\n",
            " [  0   0   0   0   0   0   0   0   0   0   0   0   0   0   0   0   0   0\n",
            "    0   0   0   0   0   0   0   0   0   0]\n",
            " [  0   0   0   0   0   0   0   0   0   0   0   0   0   0   0   0   0   0\n",
            "    0   0   0   0   0   0   0   0   0   0]\n",
            " [  0   0   0   0   0   0   0   0   0   0   0   0   0   0   0   0   0   0\n",
            "    0   0   0   0   0   0   0   0   0   0]\n",
            " [  0   0   0   0   0   0   0   0   0   0   0   0   0   0   0   0   0   0\n",
            "    0   0   0   0   0   0   0   0   0   0]]\n"
          ],
          "name": "stdout"
        }
      ]
    },
    {
      "cell_type": "markdown",
      "metadata": {
        "id": "38vXCZXE27Jt",
        "colab_type": "text"
      },
      "source": [
        "Plot the `first 10 train images` and `corresponding labels`."
      ]
    },
    {
      "cell_type": "code",
      "metadata": {
        "id": "xLneKSAh2_ER",
        "colab_type": "code",
        "colab": {
          "base_uri": "https://localhost:8080/",
          "height": 148
        },
        "outputId": "dea80d68-f0f7-40a4-fae4-d236b0faa7a7"
      },
      "source": [
        "print('First 10 Train Images in MNIST Datasets')\n",
        "print()\n",
        "\n",
        "for i in range(10):\n",
        "    plt.subplot(1, 10, i + 1)\n",
        "    plt.xticks([])\n",
        "    plt.yticks([])\n",
        "    plt.imshow(train_images[i])\n",
        "plt.show()\n",
        "\n",
        "print()\n",
        "print('Train labels match with train label sequentialy.')\n",
        "print(train_labels[:10])"
      ],
      "execution_count": 10,
      "outputs": [
        {
          "output_type": "stream",
          "text": [
            "First 10 Train Images in MNIST Datasets\n",
            "\n"
          ],
          "name": "stdout"
        },
        {
          "output_type": "display_data",
          "data": {
            "image/png": "[encoded data removed]",
            "text/plain": [
              "<Figure size 432x288 with 10 Axes>"
            ]
          },
          "metadata": {
            "tags": []
          }
        },
        {
          "output_type": "stream",
          "text": [
            "\n",
            "Train labels match with train label sequentialy.\n",
            "[5 0 4 1 9 2 1 3 1 4]\n"
          ],
          "name": "stdout"
        }
      ]
    },
    {
      "cell_type": "markdown",
      "metadata": {
        "id": "R01dQsMs4Gy7",
        "colab_type": "text"
      },
      "source": [
        "## **[Important] Change the shape of the data**"
      ]
    },
    {
      "cell_type": "markdown",
      "metadata": {
        "id": "urZVUxis4ORu",
        "colab_type": "text"
      },
      "source": [
        "Change the `shape` of the data (`60000 x 28 x 28)` to `(60000 x 28 x 28 x 1)`"
      ]
    },
    {
      "cell_type": "code",
      "metadata": {
        "id": "95Ja2JRd4lEw",
        "colab_type": "code",
        "colab": {}
      },
      "source": [
        "train_images = tf.reshape(train_images, [-1, 28, 28, 1])\n",
        "test_images = tf.reshape(test_images, [-1,28, 28, 1])"
      ],
      "execution_count": 0,
      "outputs": []
    },
    {
      "cell_type": "markdown",
      "metadata": {
        "id": "uzEXNZmH5Az0",
        "colab_type": "text"
      },
      "source": [
        "## Select the convolution model"
      ]
    },
    {
      "cell_type": "markdown",
      "metadata": {
        "id": "_mhNFwcU5F3w",
        "colab_type": "text"
      },
      "source": [
        "There are 3 example models.\n",
        "\n",
        "\n",
        "1.   [`MODEL 1`] `3 Layers` with `1 Convolution Layer`\n",
        "2.   [`MODEL 2`] `5 Layers` with `2 Convolution Layer`\n",
        "3.   [`MODEL 3`] `7 Layers` with `4 Convolution Layer`\n",
        "\n"
      ]
    },
    {
      "cell_type": "code",
      "metadata": {
        "id": "PaTk3qUN5l7X",
        "colab_type": "code",
        "colab": {}
      },
      "source": [
        "def select_model(model_number):\n",
        "    if model_number == 1:\n",
        "        model = keras.models.Sequential([\n",
        "                                         # Layer 1\n",
        "                                         keras.layers.Conv2D(32, (3, 3), activation = 'relu', input_shape = (28, 28, 1)),\n",
        "                                         # Layer 2\n",
        "                                         keras.layers.MaxPool2D((2, 2)),\n",
        "                                         keras.layers.Flatten(),\n",
        "                                         # Layer 3\n",
        "                                         keras.layers.Dense(10, activation = 'softmax')\n",
        "        ])\n",
        "    if model_number == 2:\n",
        "        model = keras.models.Sequential([\n",
        "                                         # Layer 1\n",
        "                                         keras.layers.Conv2D(32, (3, 3), activation = 'relu', input_shape = (28, 28, 1)),\n",
        "                                         # Layer 2\n",
        "                                         keras.layers.MaxPool2D((2, 2)),\n",
        "                                         # Layer 3\n",
        "                                         keras.layers.Conv2D(64, (3, 3), activation = 'relu'),\n",
        "                                         # Layer 4\n",
        "                                         keras.layers.MaxPool2D((2, 2)),\n",
        "                                         # Layer 5\n",
        "                                         keras.layers.Flatten(),\n",
        "                                         keras.layers.Dense(10, activation = 'softmax')\n",
        "        ])\n",
        "    if model_number == 3:\n",
        "        model = keras.models.Sequential([\n",
        "                                         # Layer 1\n",
        "                                         keras.layers.Conv2D(32, (3, 3), activation = 'relu', input_shape = (28, 28, 1)),\n",
        "                                         # Layer 2\n",
        "                                         keras.layers.MaxPool2D((2, 2)),\n",
        "                                         # Layer 3\n",
        "                                         keras.layers.Conv2D(64, (3, 3), activation = 'relu'),\n",
        "                                         # Layer 4\n",
        "                                         keras.layers.Conv2D(64, (3, 3), activation = 'relu'),\n",
        "                                         # Layer 5\n",
        "                                         keras.layers.MaxPool2D((2, 2)),\n",
        "                                         # Layer 6\n",
        "                                         keras.layers.Conv2D(128, (3, 3), activation = 'relu'),\n",
        "                                         # Layer 7\n",
        "                                         keras.layers.Flatten(),\n",
        "                                         keras.layers.Dense(10, activation = 'softmax')\n",
        "        ])\n",
        "    \n",
        "    return model"
      ],
      "execution_count": 0,
      "outputs": []
    },
    {
      "cell_type": "code",
      "metadata": {
        "id": "cNdIxbBY7jNM",
        "colab_type": "code",
        "colab": {}
      },
      "source": [
        "model = select_model(3)"
      ],
      "execution_count": 0,
      "outputs": []
    },
    {
      "cell_type": "markdown",
      "metadata": {
        "id": "ax5cQm7d7zUF",
        "colab_type": "text"
      },
      "source": [
        "If you want to see the `information of the model`, `model.summary()` will help. \\\\\n",
        "`summary()` is also a `builtin function`."
      ]
    },
    {
      "cell_type": "code",
      "metadata": {
        "id": "CHXnfBEN8EnV",
        "colab_type": "code",
        "colab": {
          "base_uri": "https://localhost:8080/",
          "height": 425
        },
        "outputId": "99018cbb-b009-4025-af8c-dd8990086177"
      },
      "source": [
        "model.summary()"
      ],
      "execution_count": 19,
      "outputs": [
        {
          "output_type": "stream",
          "text": [
            "Model: \"sequential_3\"\n",
            "_________________________________________________________________\n",
            "Layer (type)                 Output Shape              Param #   \n",
            "=================================================================\n",
            "conv2d_8 (Conv2D)            (None, 26, 26, 32)        320       \n",
            "_________________________________________________________________\n",
            "max_pooling2d_5 (MaxPooling2 (None, 13, 13, 32)        0         \n",
            "_________________________________________________________________\n",
            "conv2d_9 (Conv2D)            (None, 11, 11, 64)        18496     \n",
            "_________________________________________________________________\n",
            "conv2d_10 (Conv2D)           (None, 9, 9, 64)          36928     \n",
            "_________________________________________________________________\n",
            "max_pooling2d_6 (MaxPooling2 (None, 4, 4, 64)          0         \n",
            "_________________________________________________________________\n",
            "conv2d_11 (Conv2D)           (None, 2, 2, 128)         73856     \n",
            "_________________________________________________________________\n",
            "flatten_3 (Flatten)          (None, 512)               0         \n",
            "_________________________________________________________________\n",
            "dense_3 (Dense)              (None, 10)                5130      \n",
            "=================================================================\n",
            "Total params: 134,730\n",
            "Trainable params: 134,730\n",
            "Non-trainable params: 0\n",
            "_________________________________________________________________\n"
          ],
          "name": "stdout"
        }
      ]
    },
    {
      "cell_type": "markdown",
      "metadata": {
        "id": "m94Px5CE8ftz",
        "colab_type": "text"
      },
      "source": [
        "## Components in the training step"
      ]
    },
    {
      "cell_type": "markdown",
      "metadata": {
        "id": "MF7r1t9k8nbk",
        "colab_type": "text"
      },
      "source": [
        "`Optimizer`, `loss function`, `accuracy metrics`."
      ]
    },
    {
      "cell_type": "code",
      "metadata": {
        "id": "H8wB4Lj68xp1",
        "colab_type": "code",
        "colab": {}
      },
      "source": [
        "model.compile(\n",
        "    optimizer = 'adam',\n",
        "    loss = 'sparse_categorical_crossentropy',\n",
        "    metrics = ['accuracy']\n",
        ")"
      ],
      "execution_count": 0,
      "outputs": []
    },
    {
      "cell_type": "markdown",
      "metadata": {
        "id": "u9_Wg-jQ9INk",
        "colab_type": "text"
      },
      "source": [
        "## Train Step"
      ]
    },
    {
      "cell_type": "markdown",
      "metadata": {
        "id": "aVKnyp9e9KpI",
        "colab_type": "text"
      },
      "source": [
        "`Train` for `5 epochs` with the `train data`."
      ]
    },
    {
      "cell_type": "code",
      "metadata": {
        "id": "8QQWTpWF9Rq1",
        "colab_type": "code",
        "colab": {
          "base_uri": "https://localhost:8080/",
          "height": 204
        },
        "outputId": "0973e282-e8d7-42e0-ec49-bfcc5314c21b"
      },
      "source": [
        "model.fit(train_images, train_labels, epochs = 5)"
      ],
      "execution_count": 21,
      "outputs": [
        {
          "output_type": "stream",
          "text": [
            "Epoch 1/5\n",
            "1875/1875 [==============================] - 5s 3ms/step - loss: 0.2092 - accuracy: 0.9529\n",
            "Epoch 2/5\n",
            "1875/1875 [==============================] - 5s 2ms/step - loss: 0.0558 - accuracy: 0.9830\n",
            "Epoch 3/5\n",
            "1875/1875 [==============================] - 5s 2ms/step - loss: 0.0458 - accuracy: 0.9859\n",
            "Epoch 4/5\n",
            "1875/1875 [==============================] - 5s 2ms/step - loss: 0.0378 - accuracy: 0.9883\n",
            "Epoch 5/5\n",
            "1875/1875 [==============================] - 5s 2ms/step - loss: 0.0343 - accuracy: 0.9892\n"
          ],
          "name": "stdout"
        },
        {
          "output_type": "execute_result",
          "data": {
            "text/plain": [
              "<tensorflow.python.keras.callbacks.History at 0x7f4090137438>"
            ]
          },
          "metadata": {
            "tags": []
          },
          "execution_count": 21
        }
      ]
    },
    {
      "cell_type": "markdown",
      "metadata": {
        "id": "8GSsxrXj9yUJ",
        "colab_type": "text"
      },
      "source": [
        "## Test Step"
      ]
    },
    {
      "cell_type": "markdown",
      "metadata": {
        "id": "TcV-bYkk91Kx",
        "colab_type": "text"
      },
      "source": [
        "`Test` the `convolution model` with the `test data`."
      ]
    },
    {
      "cell_type": "code",
      "metadata": {
        "id": "Ol-WyeKU-AOX",
        "colab_type": "code",
        "colab": {
          "base_uri": "https://localhost:8080/",
          "height": 85
        },
        "outputId": "19d714e1-bf00-421e-ff08-e595b8c37064"
      },
      "source": [
        "test_loss, accuracy = model.evaluate(test_images, test_labels, verbose = 2)\n",
        "print()\n",
        "print('Test Loss: ', test_loss)\n",
        "print('Test Accuracy: ', accuracy)"
      ],
      "execution_count": 23,
      "outputs": [
        {
          "output_type": "stream",
          "text": [
            "313/313 - 1s - loss: 0.0414 - accuracy: 0.9878\n",
            "\n",
            "Test Loss:  0.04142288118600845\n",
            "Test Accuracy:  0.9878000020980835\n"
          ],
          "name": "stdout"
        }
      ]
    },
    {
      "cell_type": "markdown",
      "metadata": {
        "id": "knx3bD2m-zLF",
        "colab_type": "text"
      },
      "source": [
        "Before `prediction`, change the `type` of the `test image data` to `float 32`."
      ]
    },
    {
      "cell_type": "code",
      "metadata": {
        "id": "lnLCFipF_AzT",
        "colab_type": "code",
        "colab": {}
      },
      "source": [
        "test_images = tf.cast(test_images, tf.float32)\n",
        "pred = model.predict(test_images)\n",
        "Number = [0, 1, 2, 3, 4, 5, 6, 7, 8, 9]"
      ],
      "execution_count": 0,
      "outputs": []
    },
    {
      "cell_type": "code",
      "metadata": {
        "id": "Z9vQsrxo_PRt",
        "colab_type": "code",
        "colab": {
          "base_uri": "https://localhost:8080/",
          "height": 51
        },
        "outputId": "36ce5f96-5061-4919-cc04-7d8db89909ef"
      },
      "source": [
        "print('Shape of Prediction: ', pred.shape)\n",
        "print('Shape of Test Labels: ', test_labels.shape)"
      ],
      "execution_count": 25,
      "outputs": [
        {
          "output_type": "stream",
          "text": [
            "Shape of Prediction:  (10000, 10)\n",
            "Shape of Test Labels:  (10000,)\n"
          ],
          "name": "stdout"
        }
      ]
    },
    {
      "cell_type": "markdown",
      "metadata": {
        "id": "Zq4qGhscBElD",
        "colab_type": "text"
      },
      "source": [
        "## Generate the function for ploting images and probabilities"
      ]
    },
    {
      "cell_type": "code",
      "metadata": {
        "id": "mb-SyUBMBZ_z",
        "colab_type": "code",
        "colab": {}
      },
      "source": [
        "def plot_image(i, predictions_array, true_label, img):\n",
        "    predictions_array, true_label, img = predictions_array[i], true_label[i], img[i]\n",
        "    plt.grid(False)\n",
        "    plt.xticks([])\n",
        "    plt.yticks([])\n",
        "\n",
        "    plt.imshow(img, cmap=plt.cm.binary)\n",
        "\n",
        "    predicted_label = np.argmax(predictions_array)\n",
        "    if predicted_label == true_label:\n",
        "        color = 'blue'\n",
        "    else:\n",
        "        color = 'red'\n",
        "    \n",
        "    plt.xlabel(\"{} {:2.0f}% ({})\".format(Number[predicted_label],\n",
        "                                         100 * np.argmax(predictions_array),\n",
        "                                         Number[true_label]),\n",
        "                                         color=color)"
      ],
      "execution_count": 0,
      "outputs": []
    },
    {
      "cell_type": "code",
      "metadata": {
        "id": "FDROwGOICSIS",
        "colab_type": "code",
        "colab": {}
      },
      "source": [
        "def plot_value_array(i, predictions_array, true_label):\n",
        "    predictions_array, true_label = predictions_array[i], true_label[i]\n",
        "    plt.grid(False)\n",
        "    plt.xticks([])\n",
        "    plt.yticks([])\n",
        "\n",
        "    thisplot = plt.bar(range(10), predictions_array, color=\"#777777\")\n",
        "    plt.ylim([0, 1])\n",
        "    predicted_label = np.argmax(predictions_array)\n",
        "    plt.xticks(Number)\n",
        "\n",
        "    thisplot[predicted_label].set_color('red')\n",
        "    thisplot[true_label].set_color('blue')"
      ],
      "execution_count": 0,
      "outputs": []
    },
    {
      "cell_type": "code",
      "metadata": {
        "id": "w7Bbrzi2DxwN",
        "colab_type": "code",
        "colab": {}
      },
      "source": [
        "(train_images, train_labels), (test_images, test_labels) = mnist.load_data()"
      ],
      "execution_count": 0,
      "outputs": []
    },
    {
      "cell_type": "code",
      "metadata": {
        "id": "HEChDJG0D-34",
        "colab_type": "code",
        "colab": {
          "base_uri": "https://localhost:8080/",
          "height": 211
        },
        "outputId": "eef25dcc-54fe-4391-e30e-015dd5025dac"
      },
      "source": [
        "i = 1\n",
        "plt.figure(figsize=(6,3))\n",
        "plt.subplot(1,2,1)\n",
        "plot_image(i, pred, test_labels, test_images)\n",
        "plt.subplot(1,2,2)\n",
        "plot_value_array(i, pred, test_labels)\n",
        "plt.show()"
      ],
      "execution_count": 35,
      "outputs": [
        {
          "output_type": "display_data",
          "data": {
            "image/png": "[encoded data removed]",
            "text/plain": [
              "<Figure size 432x216 with 2 Axes>"
            ]
          },
          "metadata": {
            "tags": [],
            "needs_background": "light"
          }
        }
      ]
    },
    {
      "cell_type": "code",
      "metadata": {
        "id": "ZSjQbjmNE3mH",
        "colab_type": "code",
        "colab": {
          "base_uri": "https://localhost:8080/",
          "height": 592
        },
        "outputId": "bf095d8d-c8e3-4a13-abb0-21d2d0c5ccde"
      },
      "source": [
        "num_rows = 5\n",
        "num_cols = 3\n",
        "num_images = num_rows * num_cols\n",
        "plt.figure(figsize=(2 * 2 * num_cols, 2 * num_rows))\n",
        "for i in range(num_images):\n",
        "  plt.subplot(num_rows, 2 * num_cols, 2 * i + 1)\n",
        "  plot_image(i, pred, test_labels, test_images)\n",
        "  plt.subplot(num_rows, 2 * num_cols, 2 * i + 2)\n",
        "  plot_value_array(i, pred, test_labels)\n",
        "plt.show()"
      ],
      "execution_count": 36,
      "outputs": [
        {
          "output_type": "display_data",
          "data": {
            "image/png": "[encoded data removed]",
            "text/plain": [
              "<Figure size 864x720 with 30 Axes>"
            ]
          },
          "metadata": {
            "tags": [],
            "needs_background": "light"
          }
        }
      ]
    },
    {
      "cell_type": "markdown",
      "metadata": {
        "id": "TVuw5ChqGHqF",
        "colab_type": "text"
      },
      "source": [
        "## Generate the function for ploting images and probabilities that model predicted wrong"
      ]
    },
    {
      "cell_type": "code",
      "metadata": {
        "id": "ctiDHEPsGXu2",
        "colab_type": "code",
        "colab": {}
      },
      "source": [
        "def error_mnist(prediction_array, true_label):\n",
        "    error_index = []\n",
        "\n",
        "    for i in range(true_label.shape[0]):\n",
        "        if np.argmax(prediction_array[i]) != true_label[i]:\n",
        "            error_index.append(i)\n",
        "    return error_index"
      ],
      "execution_count": 0,
      "outputs": []
    },
    {
      "cell_type": "code",
      "metadata": {
        "id": "fTnjnw8sGrvR",
        "colab_type": "code",
        "colab": {}
      },
      "source": [
        "def plot_error(index, prediction_array, true_label):\n",
        "    num_cols = 5\n",
        "    num_rows = 5\n",
        "    plt.figure(figsize=(2 * 2 * num_cols, 2 * num_rows))\n",
        "\n",
        "    assert len(index) < num_cols * num_rows\n",
        "    for i in range(len(index)):\n",
        "        plt.subplot(num_rows, 2 * num_cols, 2 * i + 1)\n",
        "        idx = index[i]\n",
        "        plt.imshow(test_images[idx])\n",
        "        plt.subplot(num_rows, 2 * num_cols, 2 * i + 2)\n",
        "        plt.bar(range(10), prediction_array[idx])\n",
        "        plt.xticks(Number)"
      ],
      "execution_count": 0,
      "outputs": []
    },
    {
      "cell_type": "markdown",
      "metadata": {
        "id": "O4xi5wQKFsJs",
        "colab_type": "text"
      },
      "source": [
        "## Find the index of the wrong predictions and the correct predictions"
      ]
    },
    {
      "cell_type": "markdown",
      "metadata": {
        "id": "xwJpMJoRFyq1",
        "colab_type": "text"
      },
      "source": [
        "Plot the `first 10 wrong predicted images and probabilities`."
      ]
    }
  ]
}