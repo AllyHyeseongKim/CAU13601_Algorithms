{
  "nbformat": 4,
  "nbformat_minor": 0,
  "metadata": {
    "colab": {
      "name": "Tensorflow_mnist_example.ipynb",
      "provenance": [],
      "authorship_tag": "ABX9TyMU5Az4AjBiYj9Lkxt9B6Mg",
      "include_colab_link": true
    },
    "kernelspec": {
      "name": "python3",
      "display_name": "Python 3"
    },
    "accelerator": "GPU"
  },
  "cells": [
    {
      "cell_type": "markdown",
      "metadata": {
        "id": "view-in-github",
        "colab_type": "text"
      },
      "source": [
        "<a href=\"https://colab.research.google.com/github/AllyHyeseongKim/CAU13601_Algorithms/blob/feature%2Fassignment04/assignment04/Tensorflow_mnist_example.ipynb\" target=\"_parent\"><img src=\"https://colab.research.google.com/assets/colab-badge.svg\" alt=\"Open In Colab\"/></a>"
      ]
    },
    {
      "cell_type": "markdown",
      "metadata": {
        "id": "a0m50pfcx4by",
        "colab_type": "text"
      },
      "source": [
        "# import library"
      ]
    },
    {
      "cell_type": "code",
      "metadata": {
        "id": "CUQ6Z1Ovv0Xz",
        "colab_type": "code",
        "colab": {}
      },
      "source": [
        "import tensorflow as tf\n",
        "from tensorflow import keras\n",
        "from tensorflow.keras import layers, models\n",
        "import numpy as np\n",
        "import matplotlib.pyplot as plt"
      ],
      "execution_count": 0,
      "outputs": []
    },
    {
      "cell_type": "markdown",
      "metadata": {
        "id": "sY9LKLH0yAEx",
        "colab_type": "text"
      },
      "source": [
        "# Get MNIST Data."
      ]
    },
    {
      "cell_type": "markdown",
      "metadata": {
        "id": "hIn1b4yIyjZO",
        "colab_type": "text"
      },
      "source": [
        "`MNIST` data located in `tensorflow > keras > datasets > mnist`. \\\\\n",
        "`Split data` to (`train images`, `train labels`) and (`test images`, `test labels`)"
      ]
    },
    {
      "cell_type": "code",
      "metadata": {
        "id": "iIkp9vWFy8Ng",
        "colab_type": "code",
        "colab": {}
      },
      "source": [
        "mnist = keras.datasets.mnist\n",
        "(train_images, train_labels), (test_images, test_labels) = mnist.load_data()"
      ],
      "execution_count": 0,
      "outputs": []
    },
    {
      "cell_type": "markdown",
      "metadata": {
        "id": "yeC9tAkVz0vI",
        "colab_type": "text"
      },
      "source": [
        "There are total `60000` `train images` and `train labels`. (60000 images for single class) \\\\\n",
        "Shape of single image is `28x28` (pixel)."
      ]
    },
    {
      "cell_type": "code",
      "metadata": {
        "id": "IkpCm3yt0t3F",
        "colab_type": "code",
        "colab": {
          "base_uri": "https://localhost:8080/",
          "height": 102
        },
        "outputId": "539dc9e9-81ac-4562-f27a-3c5cef0e6aef"
      },
      "source": [
        "print('Shape of Train Images: ', train_images.shape)\n",
        "print('Shape of Train Labels: ', train_labels.shape)\n",
        "print()\n",
        "print('Shape of Test Images: ', test_images.shape)\n",
        "print('Shape of Test Label: ', test_labels.shape)"
      ],
      "execution_count": 5,
      "outputs": [
        {
          "output_type": "stream",
          "text": [
            "Shape of Train Images:  (60000, 28, 28)\n",
            "Shape of Train Labels:  (60000,)\n",
            "\n",
            "Shape of Test Images:  (10000, 28, 28)\n",
            "Shape of Test Label:  (10000,)\n"
          ],
          "name": "stdout"
        }
      ]
    },
    {
      "cell_type": "code",
      "metadata": {
        "id": "s48fupo31EOG",
        "colab_type": "code",
        "colab": {
          "base_uri": "https://localhost:8080/",
          "height": 34
        },
        "outputId": "2f1fa0c9-3022-4e88-a509-72cb1a23b97d"
      },
      "source": [
        "print('Train Labels: ', train_labels)"
      ],
      "execution_count": 6,
      "outputs": [
        {
          "output_type": "stream",
          "text": [
            "Train Labels:  [5 0 4 ... 5 6 8]\n"
          ],
          "name": "stdout"
        }
      ]
    }
  ]
}